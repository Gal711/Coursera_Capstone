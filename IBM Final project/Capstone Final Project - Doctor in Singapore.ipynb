{
 "cells": [
  {
   "cell_type": "markdown",
   "metadata": {},
   "source": [
    "# Capstone Final Project - Medical access in Singapore\n",
    "### Applied Data Science Capstone by IBM/Coursera"
   ]
  },
  {
   "cell_type": "markdown",
   "metadata": {},
   "source": [
    "## Table of contents\n",
    "* [Introduction: Business Problem](#introduction)\n",
    "* [Data](#data)\n",
    "* [Methodology](#methodology)\n",
    "* [Analysis](#analysis)\n",
    "* [Results and Discussion](#results)\n",
    "* [Conclusion](#conclusion)"
   ]
  },
  {
   "cell_type": "markdown",
   "metadata": {},
   "source": [
    "## Introduction: Business Problem <a name=\"introduction\"></a>"
   ]
  },
  {
   "cell_type": "markdown",
   "metadata": {},
   "source": [
    "Singapore is an island city-state off southern Malaysia where approximately 6 million people are living in. It is one of the most important hubs of Southeast Asia, it possesses the world second busiest port in the world, and it is the place of choice of many multinationals who decide to establish in Southeast Asia. \n",
    "\n",
    "   I just spent one year in Singapore as part of my study and through this year I worked part time with an insurance company in Singapore. Their goal was to provide very personalized insurance for expats in Singapore, because healthcare is very expensive in Singapore, there is an important need for people to choose on what they want to be insured. \n",
    "    \n",
    "   Moreover it is important for people to know if there is an easy access to health services from where they live, when an expat wants to settle in a new country we want to advise him where are the neighbourhoods that are close to medical centre, hospital, doctor’s office, etc… \n",
    "    \n",
    "   The problem I want to solve here is, how can I get an evaluation of the access to health services of each neighbourhood of Singapore. With this evaluation I will be able to tell if a neighbourhood is poorly provided or on the contrary has good access to any kind of health services. \n"
   ]
  },
  {
   "cell_type": "markdown",
   "metadata": {},
   "source": [
    "## Data <a name=\"data\"></a>"
   ]
  },
  {
   "cell_type": "markdown",
   "metadata": {},
   "source": [
    "In order to solve this problematic I used the data listed below:\n",
    "-\tFirst to get the name of every neighbourhood of Singapore, I went of the Wikipedia page listing all the postal code of Singapore, I saw that they provided a tab containing every postal district with their neighbourhoods in Singapore. https://en.wikipedia.org/wiki/Postal_codes_in_Singapore\n",
    "-\tIn order to get the geolocation of every neighbourhood of Singapore, I used the geocoder library\n",
    "-\tI used the Foursquare API to get all the healthcare services around each neighbourhood\n"
   ]
  },
  {
   "cell_type": "markdown",
   "metadata": {},
   "source": [
    "### Import necessary Libraries"
   ]
  },
  {
   "cell_type": "code",
   "execution_count": 1,
   "metadata": {
    "scrolled": true
   },
   "outputs": [
    {
     "name": "stdout",
     "output_type": "stream",
     "text": [
      "Libraries imported.\n"
     ]
    }
   ],
   "source": [
    "import numpy as np # library to handle data in a vectorized manner\n",
    "\n",
    "import pandas as pd # library for data analsysis\n",
    "pd.set_option('display.max_columns', None)\n",
    "pd.set_option('display.max_rows', None)\n",
    "\n",
    "import json # library to handle JSON files\n",
    "\n",
    "import requests # library to handle requests\n",
    "from pandas.io.json import json_normalize # tranform JSON file into a pandas dataframe\n",
    "from geopy.geocoders import Nominatim # module to convert an address into latitude and longitude values\n",
    "\n",
    "from bs4 import BeautifulSoup #library for beautifulSoup\n",
    "\n",
    "%matplotlib inline \n",
    "# Matplotlib and associated plotting modules\n",
    "import matplotlib.cm as cm\n",
    "import matplotlib.colors as colors\n",
    "\n",
    "import matplotlib as mpl\n",
    "import matplotlib.pyplot as plt\n",
    "\n",
    "# import k-means from clustering stage\n",
    "from sklearn.cluster import KMeans\n",
    "import geocoder # import geocoder\n",
    "import folium # map rendering library\n",
    "\n",
    "print('Libraries imported.')"
   ]
  },
  {
   "cell_type": "markdown",
   "metadata": {},
   "source": [
    "#### Define Foursquare Credentials and Version"
   ]
  },
  {
   "cell_type": "code",
   "execution_count": 2,
   "metadata": {},
   "outputs": [
    {
     "name": "stdout",
     "output_type": "stream",
     "text": [
      "Your credentails:\n",
      "CLIENT_ID: 5VJF3VBFRZMHIDSIWM0HJAEL4FTSFUUUQZLEMDRFY1NE3PIU\n",
      "CLIENT_SECRET:RUDPD2H4ZX0DTPC3CH0A0MHTZQKFX4HPSFNIU3FVII3OLK3C\n"
     ]
    }
   ],
   "source": [
    "CLIENT_ID = '5VJF3VBFRZMHIDSIWM0HJAEL4FTSFUUUQZLEMDRFY1NE3PIU' # your Foursquare ID\n",
    "CLIENT_SECRET = 'RUDPD2H4ZX0DTPC3CH0A0MHTZQKFX4HPSFNIU3FVII3OLK3C' # your Foursquare Secret\n",
    "VERSION = '20190518'\n",
    "LIMIT = 100\n",
    "print('Your credentails:')\n",
    "print('CLIENT_ID: ' + CLIENT_ID)\n",
    "print('CLIENT_SECRET:' + CLIENT_SECRET)"
   ]
  },
  {
   "cell_type": "markdown",
   "metadata": {},
   "source": [
    "## 1. Scrapping of the wikipedia page containing all the post code of Singapore"
   ]
  },
  {
   "cell_type": "markdown",
   "metadata": {},
   "source": [
    "The goal here is to retrieve all the neighbourhood from the wikipedia page and get their geolocation "
   ]
  },
  {
   "cell_type": "code",
   "execution_count": 3,
   "metadata": {},
   "outputs": [],
   "source": [
    "url = \"https://en.wikipedia.org/wiki/Postal_codes_in_Singapore\"\n",
    "\n",
    "#Get the content of the wiki page on a string\n",
    "results = requests.get(url).text\n",
    "\n",
    "#Transform the content in xml with BeautifulSoup\n",
    "page = BeautifulSoup(results, \"lxml\")\n",
    "\n",
    "tab = page.tbody\n",
    "\n",
    "#We remove the link present in the page\n",
    "for a in tab.findAll('a'):\n",
    "    a.replaceWithChildren()"
   ]
  },
  {
   "cell_type": "markdown",
   "metadata": {},
   "source": [
    "### Create the Dataframe that will contain postcodes"
   ]
  },
  {
   "cell_type": "code",
   "execution_count": 4,
   "metadata": {},
   "outputs": [
    {
     "data": {
      "text/html": [
       "<div>\n",
       "<style scoped>\n",
       "    .dataframe tbody tr th:only-of-type {\n",
       "        vertical-align: middle;\n",
       "    }\n",
       "\n",
       "    .dataframe tbody tr th {\n",
       "        vertical-align: top;\n",
       "    }\n",
       "\n",
       "    .dataframe thead th {\n",
       "        text-align: right;\n",
       "    }\n",
       "</style>\n",
       "<table border=\"1\" class=\"dataframe\">\n",
       "  <thead>\n",
       "    <tr style=\"text-align: right;\">\n",
       "      <th></th>\n",
       "      <th>Postal District</th>\n",
       "      <th>Neighborhood</th>\n",
       "    </tr>\n",
       "  </thead>\n",
       "  <tbody>\n",
       "  </tbody>\n",
       "</table>\n",
       "</div>"
      ],
      "text/plain": [
       "Empty DataFrame\n",
       "Columns: [Postal District, Neighborhood]\n",
       "Index: []"
      ]
     },
     "execution_count": 4,
     "metadata": {},
     "output_type": "execute_result"
    }
   ],
   "source": [
    "postal_code = pd.DataFrame(columns=['Postal District', 'Neighborhood'])\n",
    "postal_code"
   ]
  },
  {
   "cell_type": "markdown",
   "metadata": {},
   "source": [
    "### Fill the Dataframe with the postcodes"
   ]
  },
  {
   "cell_type": "code",
   "execution_count": 5,
   "metadata": {},
   "outputs": [
    {
     "data": {
      "text/html": [
       "<div>\n",
       "<style scoped>\n",
       "    .dataframe tbody tr th:only-of-type {\n",
       "        vertical-align: middle;\n",
       "    }\n",
       "\n",
       "    .dataframe tbody tr th {\n",
       "        vertical-align: top;\n",
       "    }\n",
       "\n",
       "    .dataframe thead th {\n",
       "        text-align: right;\n",
       "    }\n",
       "</style>\n",
       "<table border=\"1\" class=\"dataframe\">\n",
       "  <thead>\n",
       "    <tr style=\"text-align: right;\">\n",
       "      <th></th>\n",
       "      <th>Postal District</th>\n",
       "      <th>Neighborhood</th>\n",
       "    </tr>\n",
       "  </thead>\n",
       "  <tbody>\n",
       "    <tr>\n",
       "      <th>1</th>\n",
       "      <td>01</td>\n",
       "      <td>Raffles Place</td>\n",
       "    </tr>\n",
       "    <tr>\n",
       "      <th>2</th>\n",
       "      <td>01</td>\n",
       "      <td>Cecil</td>\n",
       "    </tr>\n",
       "    <tr>\n",
       "      <th>3</th>\n",
       "      <td>01</td>\n",
       "      <td>Marina</td>\n",
       "    </tr>\n",
       "    <tr>\n",
       "      <th>4</th>\n",
       "      <td>01</td>\n",
       "      <td>People's Park</td>\n",
       "    </tr>\n",
       "    <tr>\n",
       "      <th>5</th>\n",
       "      <td>02</td>\n",
       "      <td>Anson</td>\n",
       "    </tr>\n",
       "    <tr>\n",
       "      <th>6</th>\n",
       "      <td>02</td>\n",
       "      <td>Tanjong Pagar</td>\n",
       "    </tr>\n",
       "    <tr>\n",
       "      <th>7</th>\n",
       "      <td>03</td>\n",
       "      <td>Bukit Merah</td>\n",
       "    </tr>\n",
       "    <tr>\n",
       "      <th>8</th>\n",
       "      <td>03</td>\n",
       "      <td>Queenstown</td>\n",
       "    </tr>\n",
       "    <tr>\n",
       "      <th>9</th>\n",
       "      <td>03</td>\n",
       "      <td>Tiong Bahru</td>\n",
       "    </tr>\n",
       "    <tr>\n",
       "      <th>10</th>\n",
       "      <td>04</td>\n",
       "      <td>Telok Blangah</td>\n",
       "    </tr>\n",
       "  </tbody>\n",
       "</table>\n",
       "</div>"
      ],
      "text/plain": [
       "   Postal District   Neighborhood\n",
       "1              01\n",
       "  Raffles Place\n",
       "2              01\n",
       "          Cecil\n",
       "3              01\n",
       "         Marina\n",
       "4              01\n",
       "  People's Park\n",
       "5              02\n",
       "          Anson\n",
       "6              02\n",
       "  Tanjong Pagar\n",
       "7              03\n",
       "    Bukit Merah\n",
       "8              03\n",
       "     Queenstown\n",
       "9              03\n",
       "    Tiong Bahru\n",
       "10             04\n",
       "  Telok Blangah"
      ]
     },
     "execution_count": 5,
     "metadata": {},
     "output_type": "execute_result"
    }
   ],
   "source": [
    "count = 0\n",
    "for row in tab.find_all('tr'):\n",
    "    postDistrict = row.contents[1].string\n",
    "    neighborhood_name = row.contents[5].string\n",
    "    if(neighborhood_name == None):\n",
    "        neighborhood_name2 = row.contents[5].contents\n",
    "        neighborhood_name2 = [x for x in neighborhood_name2 if (x != ', ' and x != '\\n')]\n",
    "    else:\n",
    "        neighborhood_name2 = neighborhood_name.split(',')\n",
    "    \n",
    "    for ele in neighborhood_name2:\n",
    "        postal_code = postal_code.append({'Postal District': postDistrict,\n",
    "                                      'Neighborhood': ele},\n",
    "                                      ignore_index=True)\n",
    "    \n",
    "#Remove all space and '\\n' in the dataFrame\n",
    "postal_code['Neighborhood'] = postal_code['Neighborhood'].str.strip()\n",
    "#remove first line of the dataframe\n",
    "postal_code = postal_code[1:]\n",
    "postal_code.head(10)"
   ]
  },
  {
   "cell_type": "code",
   "execution_count": 6,
   "metadata": {},
   "outputs": [
    {
     "data": {
      "text/plain": [
       "(75, 2)"
      ]
     },
     "execution_count": 6,
     "metadata": {},
     "output_type": "execute_result"
    }
   ],
   "source": [
    "postal_code.shape"
   ]
  },
  {
   "cell_type": "markdown",
   "metadata": {},
   "source": [
    "### Get the location of every neighbourhood  of Singapore using geopy"
   ]
  },
  {
   "cell_type": "code",
   "execution_count": 7,
   "metadata": {},
   "outputs": [
    {
     "name": "stdout",
     "output_type": "stream",
     "text": [
      "Obtaining neighborhood geolocationn: . . . . . . . . . . . . . . . . . . . . . . . . . . . . . . . . . . . . . . . . . . . . . . . . . . . . . . . . . . . . . . . . . . . . . . . . . . . done.\n"
     ]
    }
   ],
   "source": [
    "geolocator = Nominatim(user_agent=\"singap_agent\")\n",
    "\n",
    "print('Obtaining neighborhood geolocationn:', end='')\n",
    "\n",
    "for index in postal_code.index:\n",
    "    print(' .', end='')\n",
    "    overtime = 0\n",
    "    location = None\n",
    "    address = postal_code.loc[index, 'Neighborhood'] + ', Singapore, SG'\n",
    "    while(location is None and overtime < 3):\n",
    "        location = geolocator.geocode(address)\n",
    "        #after 3 try, we give up the geolocalisation\n",
    "        overtime +=1\n",
    "    if(location != None):\n",
    "        postal_code.loc[index, 'Latitude'] = location.latitude\n",
    "        postal_code.loc[index, 'Longitude'] = location.longitude\n",
    "    else:\n",
    "        postal_code.loc[index, 'Latitude'] = None\n",
    "        postal_code.loc[index, 'Longitude'] = None\n",
    "        \n",
    "#We remove the districts we couldn't locate\n",
    "postal_code.dropna(axis=0, inplace = True)\n",
    "print(' done.')"
   ]
  },
  {
   "cell_type": "code",
   "execution_count": 8,
   "metadata": {},
   "outputs": [
    {
     "data": {
      "text/html": [
       "<div>\n",
       "<style scoped>\n",
       "    .dataframe tbody tr th:only-of-type {\n",
       "        vertical-align: middle;\n",
       "    }\n",
       "\n",
       "    .dataframe tbody tr th {\n",
       "        vertical-align: top;\n",
       "    }\n",
       "\n",
       "    .dataframe thead th {\n",
       "        text-align: right;\n",
       "    }\n",
       "</style>\n",
       "<table border=\"1\" class=\"dataframe\">\n",
       "  <thead>\n",
       "    <tr style=\"text-align: right;\">\n",
       "      <th></th>\n",
       "      <th>Postal District</th>\n",
       "      <th>Neighborhood</th>\n",
       "      <th>Latitude</th>\n",
       "      <th>Longitude</th>\n",
       "    </tr>\n",
       "  </thead>\n",
       "  <tbody>\n",
       "    <tr>\n",
       "      <th>1</th>\n",
       "      <td>01</td>\n",
       "      <td>Raffles Place</td>\n",
       "      <td>1.283595</td>\n",
       "      <td>103.851568</td>\n",
       "    </tr>\n",
       "    <tr>\n",
       "      <th>2</th>\n",
       "      <td>01</td>\n",
       "      <td>Cecil</td>\n",
       "      <td>1.278716</td>\n",
       "      <td>103.847738</td>\n",
       "    </tr>\n",
       "    <tr>\n",
       "      <th>3</th>\n",
       "      <td>01</td>\n",
       "      <td>Marina</td>\n",
       "      <td>1.290475</td>\n",
       "      <td>103.852036</td>\n",
       "    </tr>\n",
       "    <tr>\n",
       "      <th>4</th>\n",
       "      <td>01</td>\n",
       "      <td>People's Park</td>\n",
       "      <td>1.285810</td>\n",
       "      <td>103.844160</td>\n",
       "    </tr>\n",
       "    <tr>\n",
       "      <th>5</th>\n",
       "      <td>02</td>\n",
       "      <td>Anson</td>\n",
       "      <td>1.271363</td>\n",
       "      <td>103.842698</td>\n",
       "    </tr>\n",
       "  </tbody>\n",
       "</table>\n",
       "</div>"
      ],
      "text/plain": [
       "  Postal District   Neighborhood  Latitude   Longitude\n",
       "1             01\n",
       "  Raffles Place  1.283595  103.851568\n",
       "2             01\n",
       "          Cecil  1.278716  103.847738\n",
       "3             01\n",
       "         Marina  1.290475  103.852036\n",
       "4             01\n",
       "  People's Park  1.285810  103.844160\n",
       "5             02\n",
       "          Anson  1.271363  103.842698"
      ]
     },
     "execution_count": 8,
     "metadata": {},
     "output_type": "execute_result"
    }
   ],
   "source": [
    "postal_code.head()"
   ]
  },
  {
   "cell_type": "markdown",
   "metadata": {},
   "source": [
    "### Exploration of the neighborhoods in Singapore"
   ]
  },
  {
   "cell_type": "code",
   "execution_count": 9,
   "metadata": {},
   "outputs": [
    {
     "name": "stdout",
     "output_type": "stream",
     "text": [
      "1.3408528 103.878446863736\n"
     ]
    }
   ],
   "source": [
    "address = 'Singapore, SG'\n",
    "\n",
    "geolocator = Nominatim(user_agent=\"foursquare_agent\")\n",
    "location = geolocator.geocode(address)\n",
    "latitude = location.latitude\n",
    "longitude = location.longitude\n",
    "print(latitude, longitude)"
   ]
  },
  {
   "cell_type": "code",
   "execution_count": 10,
   "metadata": {},
   "outputs": [
    {
     "data": {
      "text/html": [
       "<div style=\"width:100%;\"><div style=\"position:relative;width:100%;height:0;padding-bottom:60%;\"><iframe src=\"data:text/html;charset=utf-8;base64,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\" style=\"position:absolute;width:100%;height:100%;left:0;top:0;border:none !important;\" allowfullscreen webkitallowfullscreen mozallowfullscreen></iframe></div></div>"
      ],
      "text/plain": [
       "<folium.folium.Map at 0x1ecbaa01710>"
      ]
     },
     "execution_count": 10,
     "metadata": {},
     "output_type": "execute_result"
    }
   ],
   "source": [
    "# create map of Singapore using latitude and longitude values\n",
    "map_singapore = folium.Map(location=[latitude, longitude], zoom_start=11)\n",
    "\n",
    "# add markers to map\n",
    "for lat, lng, postcode, neighborhood in zip(postal_code['Latitude'], postal_code['Longitude'], postal_code['Postal District'], postal_code['Neighborhood']):\n",
    "    label = '{}, {}'.format(postcode, neighborhood)\n",
    "    label = folium.Popup(label, parse_html=True)\n",
    "    folium.CircleMarker(\n",
    "        [lat, lng],\n",
    "        radius=5,\n",
    "        popup=label,\n",
    "        color='blue',\n",
    "        fill=True,\n",
    "        fill_color='#3186cc',\n",
    "        fill_opacity=0.7,\n",
    "        parse_html=False).add_to(map_singapore)\n",
    "    \n",
    "map_singapore"
   ]
  },
  {
   "cell_type": "markdown",
   "metadata": {},
   "source": [
    "Let's save the file so we can use again the data for our project without having to execute the search again"
   ]
  },
  {
   "cell_type": "code",
   "execution_count": 316,
   "metadata": {},
   "outputs": [],
   "source": [
    "postal_code.to_csv('Singapore_neighborhood_geolocalisation.csv', index = False)"
   ]
  },
  {
   "cell_type": "markdown",
   "metadata": {},
   "source": [
    "## 2. Retrieve healthcare category id "
   ]
  },
  {
   "cell_type": "markdown",
   "metadata": {},
   "source": [
    "#### This part is not used in the end because I found later the approriate category Id directly from the Foursquare website (https://developer.foursquare.com/docs/resources/categories)"
   ]
  },
  {
   "cell_type": "markdown",
   "metadata": {},
   "source": [
    "The goal here is to retrieve the differents categoryId linked to an healthcare place to do a specific search on them. We are going to start utilizing the Foursquare API to explore the venues in Singapore and only keep the one related to healthcare."
   ]
  },
  {
   "cell_type": "markdown",
   "metadata": {},
   "source": [
    "### Search for a doctor in Singapore"
   ]
  },
  {
   "cell_type": "markdown",
   "metadata": {},
   "source": [
    "We explore in a large area in Singapore everything related to 'doctor' or 'clinic'"
   ]
  },
  {
   "cell_type": "code",
   "execution_count": 8,
   "metadata": {},
   "outputs": [],
   "source": [
    "search_query = 'clinic'\n",
    "radius = 50000"
   ]
  },
  {
   "cell_type": "code",
   "execution_count": 9,
   "metadata": {},
   "outputs": [],
   "source": [
    "url = 'https://api.foursquare.com/v2/venues/search?client_id={}&client_secret={}&ll={},{}&v={}&query={}&radius={}&limit={}'.format(CLIENT_ID, CLIENT_SECRET, latitude, longitude, VERSION, search_query, radius, LIMIT)"
   ]
  },
  {
   "cell_type": "markdown",
   "metadata": {},
   "source": [
    "#### Get the result in JSON and transform it into a *pandas* dataframe"
   ]
  },
  {
   "cell_type": "code",
   "execution_count": 10,
   "metadata": {},
   "outputs": [],
   "source": [
    "results = requests.get(url).json()\n",
    "# assign relevant part of JSON to venues\n",
    "venues = results['response']['venues']\n",
    "dataframe = json_normalize(venues)\n"
   ]
  },
  {
   "cell_type": "code",
   "execution_count": 19,
   "metadata": {},
   "outputs": [],
   "source": [
    "categorie = pd.DataFrame()\n",
    "\n",
    "# function that extracts the category of the venue\n",
    "def get_category_type(row, col):\n",
    "    try:\n",
    "        categories_list = row['categories']\n",
    "    except:\n",
    "        categories_list = row['venue.categories']\n",
    "        \n",
    "    if len(categories_list) == 0:\n",
    "        return None\n",
    "    else:\n",
    "        if(col == 'i'):\n",
    "            return categories_list[0]['id']\n",
    "        if(col == 'c'):\n",
    "            return categories_list[0]['name']\n",
    "\n",
    "# filter the category and categoryId for each row\n",
    "categorie['id'] = dataframe.apply(get_category_type, axis=1, args=('i'))\n",
    "categorie['categories'] = dataframe.apply(get_category_type, axis=1, args=('c'))\n"
   ]
  },
  {
   "cell_type": "markdown",
   "metadata": {},
   "source": [
    "#### Obtain all different kind of medical offices in Singapore "
   ]
  },
  {
   "cell_type": "markdown",
   "metadata": {},
   "source": [
    "I see that I obtain seven different kind of healthcare place, I remove the category 'Building'"
   ]
  },
  {
   "cell_type": "code",
   "execution_count": 34,
   "metadata": {},
   "outputs": [],
   "source": [
    "categorie = categorie[categorie.categories != 'Building']\n",
    "healthcare_categoriyId = categorie.groupby(['id','categories']).count()\n",
    "healthcare_categoriyId"
   ]
  },
  {
   "cell_type": "markdown",
   "metadata": {},
   "source": [
    "I save the different categoryId in a file that I will use later"
   ]
  },
  {
   "cell_type": "code",
   "execution_count": 42,
   "metadata": {},
   "outputs": [],
   "source": [
    "healthcare_categoriyId.to_csv('Singapore_healthcare_categoriyId.csv')"
   ]
  },
  {
   "cell_type": "markdown",
   "metadata": {},
   "source": [
    "## Methodology <a name=\"methodology\"></a>"
   ]
  },
  {
   "cell_type": "markdown",
   "metadata": {},
   "source": [
    "## 3. Explore Neighborhoods in Singapore"
   ]
  },
  {
   "cell_type": "markdown",
   "metadata": {},
   "source": [
    "#### Let's create a function to explore healthcare places in all the neighborhoods in Singapore"
   ]
  },
  {
   "cell_type": "code",
   "execution_count": 11,
   "metadata": {},
   "outputs": [],
   "source": [
    "postal_code = pd.read_csv('Singapore_neighborhood_geolocalisation.csv')\n",
    "healthcare_categoriyId = pd.read_csv('Singapore_healthcare_categoriyId.csv')"
   ]
  },
  {
   "cell_type": "code",
   "execution_count": 12,
   "metadata": {},
   "outputs": [],
   "source": [
    "def getMedicalVenues(postal_district, names, latitudes, longitudes, radius=500):\n",
    "    #I directly put the category medical center from foursquare website\n",
    "    categories = '4bf58dd8d48988d104941735'\n",
    "    #for id in healthcare_categoriyId.id:\n",
    "     #   categories = categories + ','+ id\n",
    "    #categories = categories[1:]\n",
    "    print('Obtaining medical venues around Neighborhood:', end='')\n",
    "    venues_list=[]\n",
    "    for postal_district, name, lat, lng in zip(postal_district, names, latitudes, longitudes):\n",
    "        print(' .', end='')\n",
    "            \n",
    "        # create the API request URL\n",
    "        url = 'https://api.foursquare.com/v2/venues/search?&client_id={}&client_secret={}&v={}&categoryId={}&ll={},{}&radius={}&limit={}'.format(\n",
    "            CLIENT_ID, \n",
    "            CLIENT_SECRET, \n",
    "            VERSION,\n",
    "            categories,\n",
    "            lat, \n",
    "            lng, \n",
    "            radius, \n",
    "            LIMIT)\n",
    "            \n",
    "        # make the GET request\n",
    "        results = requests.get(url).json()['response']['venues']\n",
    "        #print(results)\n",
    "        # return only relevant information for each nearby venue\n",
    "        venues_list.append([(\n",
    "            postal_district,\n",
    "            name, \n",
    "            lat, \n",
    "            lng, \n",
    "            v['name'], \n",
    "            v['location']['lat'], \n",
    "            v['location']['lng'],  \n",
    "            v['categories'][0]['name']) for v in results])\n",
    "\n",
    "    nearby_venues = pd.DataFrame([item for venue_list in venues_list for item in venue_list])\n",
    "    nearby_venues.columns = ['Postal_District',\n",
    "              'Neighborhood',\n",
    "              'Neighborhood_Latitude', \n",
    "              'Neighborhood_Longitude', \n",
    "              'Venue', \n",
    "              'lat', \n",
    "              'lng', \n",
    "              'Category']\n",
    "    \n",
    "    print(' done.')\n",
    "    return(nearby_venues)"
   ]
  },
  {
   "cell_type": "code",
   "execution_count": 13,
   "metadata": {},
   "outputs": [
    {
     "name": "stdout",
     "output_type": "stream",
     "text": [
      "Obtaining medical venues around Neighborhood: . . . . . . . . . . . . . . . . . . . . . . . . . . . . . . . . . . . . . . . . . . . . . . . . . . . . . . . . . . . . . . . . . . . . . . . . done.\n"
     ]
    }
   ],
   "source": [
    "medical_venues = getMedicalVenues(postal_district = postal_code['Postal District'],\n",
    "                                   names=postal_code['Neighborhood'],\n",
    "                                   latitudes=postal_code['Latitude'],\n",
    "                                   longitudes=postal_code['Longitude']\n",
    "                                  )"
   ]
  },
  {
   "cell_type": "code",
   "execution_count": 14,
   "metadata": {},
   "outputs": [
    {
     "data": {
      "text/plain": [
       "(2118, 8)"
      ]
     },
     "execution_count": 14,
     "metadata": {},
     "output_type": "execute_result"
    }
   ],
   "source": [
    "medical_venues.shape"
   ]
  },
  {
   "cell_type": "markdown",
   "metadata": {},
   "source": [
    "#### Distribution of the medical venues in Singapore"
   ]
  },
  {
   "cell_type": "code",
   "execution_count": 15,
   "metadata": {
    "scrolled": false
   },
   "outputs": [
    {
     "data": {
      "image/png": "[encoded data removed]",
      "text/plain": [
       "<Figure size 864x432 with 1 Axes>"
      ]
     },
     "metadata": {
      "needs_background": "light"
     },
     "output_type": "display_data"
    }
   ],
   "source": [
    "#Collect data\n",
    "category_visu = medical_venues.drop_duplicates(subset ='Venue', keep = 'first')\n",
    "category_visu = category_visu.groupby(['Category']).count()\n",
    "category_visu = category_visu['Postal_District']\n",
    "\n",
    "category_visu = category_visu.sort_values(ascending=False)\n",
    "\n",
    "# plot data\n",
    "category_visu.plot(kind='bar', figsize=(12, 6))\n",
    "\n",
    "plt.xlabel('Category') # add to x-label to the plot\n",
    "plt.title('Distribution of the medical venues in Singapore') # add title to the plot\n",
    "\n",
    "plt.show()"
   ]
  },
  {
   "cell_type": "markdown",
   "metadata": {},
   "source": [
    "#### I chose to keep only the five most common medical venues for the analysis "
   ]
  },
  {
   "cell_type": "code",
   "execution_count": 16,
   "metadata": {},
   "outputs": [],
   "source": [
    "med_venues = medical_venues.loc[medical_venues['Category'].isin([\"Dentist's Office\", \"Doctor's Office\",'Hospital', 'Emergency Room','Medical Center'])]"
   ]
  },
  {
   "cell_type": "markdown",
   "metadata": {},
   "source": [
    "## 4. Analysis of each Neighborhood of Singapore <a name=\"analysis\"></a>"
   ]
  },
  {
   "cell_type": "code",
   "execution_count": 17,
   "metadata": {},
   "outputs": [
    {
     "data": {
      "text/html": [
       "<div>\n",
       "<style scoped>\n",
       "    .dataframe tbody tr th:only-of-type {\n",
       "        vertical-align: middle;\n",
       "    }\n",
       "\n",
       "    .dataframe tbody tr th {\n",
       "        vertical-align: top;\n",
       "    }\n",
       "\n",
       "    .dataframe thead th {\n",
       "        text-align: right;\n",
       "    }\n",
       "</style>\n",
       "<table border=\"1\" class=\"dataframe\">\n",
       "  <thead>\n",
       "    <tr style=\"text-align: right;\">\n",
       "      <th></th>\n",
       "      <th>Neighborhood</th>\n",
       "      <th>Dentist's Office</th>\n",
       "      <th>Doctor's Office</th>\n",
       "      <th>Emergency Room</th>\n",
       "      <th>Hospital</th>\n",
       "      <th>Medical Center</th>\n",
       "    </tr>\n",
       "  </thead>\n",
       "  <tbody>\n",
       "    <tr>\n",
       "      <th>0</th>\n",
       "      <td>Raffles Place</td>\n",
       "      <td>0</td>\n",
       "      <td>0</td>\n",
       "      <td>0</td>\n",
       "      <td>0</td>\n",
       "      <td>1</td>\n",
       "    </tr>\n",
       "    <tr>\n",
       "      <th>1</th>\n",
       "      <td>Raffles Place</td>\n",
       "      <td>0</td>\n",
       "      <td>0</td>\n",
       "      <td>0</td>\n",
       "      <td>0</td>\n",
       "      <td>1</td>\n",
       "    </tr>\n",
       "    <tr>\n",
       "      <th>2</th>\n",
       "      <td>Raffles Place</td>\n",
       "      <td>0</td>\n",
       "      <td>0</td>\n",
       "      <td>0</td>\n",
       "      <td>0</td>\n",
       "      <td>1</td>\n",
       "    </tr>\n",
       "    <tr>\n",
       "      <th>3</th>\n",
       "      <td>Raffles Place</td>\n",
       "      <td>0</td>\n",
       "      <td>0</td>\n",
       "      <td>0</td>\n",
       "      <td>0</td>\n",
       "      <td>1</td>\n",
       "    </tr>\n",
       "    <tr>\n",
       "      <th>4</th>\n",
       "      <td>Raffles Place</td>\n",
       "      <td>1</td>\n",
       "      <td>0</td>\n",
       "      <td>0</td>\n",
       "      <td>0</td>\n",
       "      <td>0</td>\n",
       "    </tr>\n",
       "  </tbody>\n",
       "</table>\n",
       "</div>"
      ],
      "text/plain": [
       "    Neighborhood  Dentist's Office  Doctor's Office  Emergency Room  Hospital  \\\n",
       "0  Raffles Place                 0                0               0         0   \n",
       "1  Raffles Place                 0                0               0         0   \n",
       "2  Raffles Place                 0                0               0         0   \n",
       "3  Raffles Place                 0                0               0         0   \n",
       "4  Raffles Place                 1                0               0         0   \n",
       "\n",
       "   Medical Center  \n",
       "0               1  \n",
       "1               1  \n",
       "2               1  \n",
       "3               1  \n",
       "4               0  "
      ]
     },
     "execution_count": 17,
     "metadata": {},
     "output_type": "execute_result"
    }
   ],
   "source": [
    "# one hot encoding\n",
    "med_onehot = pd.get_dummies(med_venues[['Category']], prefix=\"\", prefix_sep=\"\")\n",
    "\n",
    "# add neighborhood column back to dataframe\n",
    "med_onehot['Neighborhood'] = med_venues['Neighborhood'] \n",
    "\n",
    "# move neighborhood column to the first column\n",
    "fixed_columns = [med_onehot.columns[-1]] + list(med_onehot.columns[:-1])\n",
    "med_onehot = med_onehot[fixed_columns]\n",
    "\n",
    "med_onehot.head()"
   ]
  },
  {
   "cell_type": "markdown",
   "metadata": {},
   "source": [
    "#### Next, let's group rows by neighborhood and by taking the sum of the frequency of occurrence of each category"
   ]
  },
  {
   "cell_type": "markdown",
   "metadata": {},
   "source": [
    "Because the research didn't always return venues, we are missing some neighborhood, for this reason, I add the missing neighborhood at the end of the dataframe with 0 venues"
   ]
  },
  {
   "cell_type": "code",
   "execution_count": 18,
   "metadata": {},
   "outputs": [
    {
     "data": {
      "text/html": [
       "<div>\n",
       "<style scoped>\n",
       "    .dataframe tbody tr th:only-of-type {\n",
       "        vertical-align: middle;\n",
       "    }\n",
       "\n",
       "    .dataframe tbody tr th {\n",
       "        vertical-align: top;\n",
       "    }\n",
       "\n",
       "    .dataframe thead th {\n",
       "        text-align: right;\n",
       "    }\n",
       "</style>\n",
       "<table border=\"1\" class=\"dataframe\">\n",
       "  <thead>\n",
       "    <tr style=\"text-align: right;\">\n",
       "      <th></th>\n",
       "      <th>Neighborhood</th>\n",
       "      <th>Dentist's Office</th>\n",
       "      <th>Doctor's Office</th>\n",
       "      <th>Emergency Room</th>\n",
       "      <th>Hospital</th>\n",
       "      <th>Medical Center</th>\n",
       "    </tr>\n",
       "  </thead>\n",
       "  <tbody>\n",
       "    <tr>\n",
       "      <th>0</th>\n",
       "      <td>Amber Road</td>\n",
       "      <td>6</td>\n",
       "      <td>19</td>\n",
       "      <td>1</td>\n",
       "      <td>1</td>\n",
       "      <td>5</td>\n",
       "    </tr>\n",
       "    <tr>\n",
       "      <th>1</th>\n",
       "      <td>Ang Mo Kio</td>\n",
       "      <td>8</td>\n",
       "      <td>15</td>\n",
       "      <td>0</td>\n",
       "      <td>1</td>\n",
       "      <td>21</td>\n",
       "    </tr>\n",
       "    <tr>\n",
       "      <th>2</th>\n",
       "      <td>Anson</td>\n",
       "      <td>7</td>\n",
       "      <td>17</td>\n",
       "      <td>0</td>\n",
       "      <td>0</td>\n",
       "      <td>6</td>\n",
       "    </tr>\n",
       "    <tr>\n",
       "      <th>3</th>\n",
       "      <td>Ardmore</td>\n",
       "      <td>11</td>\n",
       "      <td>12</td>\n",
       "      <td>0</td>\n",
       "      <td>1</td>\n",
       "      <td>19</td>\n",
       "    </tr>\n",
       "    <tr>\n",
       "      <th>4</th>\n",
       "      <td>Balestier</td>\n",
       "      <td>0</td>\n",
       "      <td>4</td>\n",
       "      <td>3</td>\n",
       "      <td>29</td>\n",
       "      <td>5</td>\n",
       "    </tr>\n",
       "  </tbody>\n",
       "</table>\n",
       "</div>"
      ],
      "text/plain": [
       "  Neighborhood  Dentist's Office  Doctor's Office  Emergency Room  Hospital  \\\n",
       "0   Amber Road                 6               19               1         1   \n",
       "1   Ang Mo Kio                 8               15               0         1   \n",
       "2        Anson                 7               17               0         0   \n",
       "3      Ardmore                11               12               0         1   \n",
       "4    Balestier                 0                4               3        29   \n",
       "\n",
       "   Medical Center  \n",
       "0               5  \n",
       "1              21  \n",
       "2               6  \n",
       "3              19  \n",
       "4               5  "
      ]
     },
     "execution_count": 18,
     "metadata": {},
     "output_type": "execute_result"
    }
   ],
   "source": [
    "med_grouped_sum = med_onehot.groupby('Neighborhood').sum().reset_index()\n",
    "#Get the missing neighborhood\n",
    "missing_neigh = postal_code.loc[~postal_code['Neighborhood'].isin(med_grouped_sum['Neighborhood'])]['Neighborhood']\n",
    "\n",
    "#add these neighborhood to the grouped df with 0 occurence of each medical venues\n",
    "for neighborhood in missing_neigh:\n",
    "        med_grouped_sum = med_grouped_sum.append({'Neighborhood': neighborhood,\n",
    "                                          \"Dentist's Office\":0,\n",
    "                                          \"Doctor's Office\":0,\n",
    "                                          'Emergency Room':0,\n",
    "                                          'Hospital':0,\n",
    "                                          'Medical Center':0},ignore_index=True)\n",
    "med_grouped_sum.head()"
   ]
  },
  {
   "cell_type": "code",
   "execution_count": 19,
   "metadata": {},
   "outputs": [
    {
     "data": {
      "text/html": [
       "<div>\n",
       "<style scoped>\n",
       "    .dataframe tbody tr th:only-of-type {\n",
       "        vertical-align: middle;\n",
       "    }\n",
       "\n",
       "    .dataframe tbody tr th {\n",
       "        vertical-align: top;\n",
       "    }\n",
       "\n",
       "    .dataframe thead th {\n",
       "        text-align: right;\n",
       "    }\n",
       "</style>\n",
       "<table border=\"1\" class=\"dataframe\">\n",
       "  <thead>\n",
       "    <tr style=\"text-align: right;\">\n",
       "      <th></th>\n",
       "      <th>Postal_District</th>\n",
       "      <th>Neighborhood</th>\n",
       "      <th>Neighborhood_Latitude</th>\n",
       "      <th>Neighborhood_Longitude</th>\n",
       "      <th>Venue</th>\n",
       "      <th>lat</th>\n",
       "      <th>lng</th>\n",
       "      <th>Category</th>\n",
       "    </tr>\n",
       "  </thead>\n",
       "  <tbody>\n",
       "    <tr>\n",
       "      <th>0</th>\n",
       "      <td>1</td>\n",
       "      <td>Raffles Place</td>\n",
       "      <td>1.283595</td>\n",
       "      <td>103.851568</td>\n",
       "      <td>In Touch Physio</td>\n",
       "      <td>1.283503</td>\n",
       "      <td>103.851163</td>\n",
       "      <td>Medical Center</td>\n",
       "    </tr>\n",
       "    <tr>\n",
       "      <th>1</th>\n",
       "      <td>1</td>\n",
       "      <td>Raffles Place</td>\n",
       "      <td>1.283595</td>\n",
       "      <td>103.851568</td>\n",
       "      <td>Raffles Medical Centre</td>\n",
       "      <td>1.284661</td>\n",
       "      <td>103.851553</td>\n",
       "      <td>Medical Center</td>\n",
       "    </tr>\n",
       "    <tr>\n",
       "      <th>2</th>\n",
       "      <td>1</td>\n",
       "      <td>Raffles Place</td>\n",
       "      <td>1.283595</td>\n",
       "      <td>103.851568</td>\n",
       "      <td>Fullerton Healthcare</td>\n",
       "      <td>1.283049</td>\n",
       "      <td>103.851697</td>\n",
       "      <td>Medical Center</td>\n",
       "    </tr>\n",
       "    <tr>\n",
       "      <th>3</th>\n",
       "      <td>1</td>\n",
       "      <td>Raffles Place</td>\n",
       "      <td>1.283595</td>\n",
       "      <td>103.851568</td>\n",
       "      <td>Oc Medical Raffles Place</td>\n",
       "      <td>1.284126</td>\n",
       "      <td>103.851050</td>\n",
       "      <td>Medical Center</td>\n",
       "    </tr>\n",
       "    <tr>\n",
       "      <th>4</th>\n",
       "      <td>1</td>\n",
       "      <td>Raffles Place</td>\n",
       "      <td>1.283595</td>\n",
       "      <td>103.851568</td>\n",
       "      <td>Lee &amp; Lee (Dental Surgeons) Pte Ltd</td>\n",
       "      <td>1.282806</td>\n",
       "      <td>103.851980</td>\n",
       "      <td>Dentist's Office</td>\n",
       "    </tr>\n",
       "  </tbody>\n",
       "</table>\n",
       "</div>"
      ],
      "text/plain": [
       "   Postal_District   Neighborhood  Neighborhood_Latitude  \\\n",
       "0                1  Raffles Place               1.283595   \n",
       "1                1  Raffles Place               1.283595   \n",
       "2                1  Raffles Place               1.283595   \n",
       "3                1  Raffles Place               1.283595   \n",
       "4                1  Raffles Place               1.283595   \n",
       "\n",
       "   Neighborhood_Longitude                                Venue       lat  \\\n",
       "0              103.851568                      In Touch Physio  1.283503   \n",
       "1              103.851568               Raffles Medical Centre  1.284661   \n",
       "2              103.851568                 Fullerton Healthcare  1.283049   \n",
       "3              103.851568             Oc Medical Raffles Place  1.284126   \n",
       "4              103.851568  Lee & Lee (Dental Surgeons) Pte Ltd  1.282806   \n",
       "\n",
       "          lng          Category  \n",
       "0  103.851163    Medical Center  \n",
       "1  103.851553    Medical Center  \n",
       "2  103.851697    Medical Center  \n",
       "3  103.851050    Medical Center  \n",
       "4  103.851980  Dentist's Office  "
      ]
     },
     "execution_count": 19,
     "metadata": {},
     "output_type": "execute_result"
    }
   ],
   "source": [
    "med_venues.head()"
   ]
  },
  {
   "cell_type": "markdown",
   "metadata": {},
   "source": [
    "#### Let's Visualize the numbers of medical venues around each neighborhood"
   ]
  },
  {
   "cell_type": "code",
   "execution_count": 20,
   "metadata": {},
   "outputs": [
    {
     "data": {
      "image/png": "[encoded data removed]",
      "text/plain": [
       "<Figure size 1296x432 with 1 Axes>"
      ]
     },
     "metadata": {
      "needs_background": "light"
     },
     "output_type": "display_data"
    }
   ],
   "source": [
    "#Collect data\n",
    "med_venues_visu = med_venues.groupby(['Neighborhood']).count()\n",
    "med_venues_visu = med_venues_visu['Venue']\n",
    "#Add neighborhood with 0 venues \n",
    "for neighborhood in missing_neigh:\n",
    "        med_venues_visu = med_venues_visu.append(pd.Series([0], index=[neighborhood]))\n",
    "med_venues_visu = med_venues_visu.sort_values(ascending=False)\n",
    "\n",
    "# plot data\n",
    "med_venues_visu.plot(kind='bar', figsize=(18, 6))\n",
    "\n",
    "plt.xlabel('Neighborhood') # add to x-label to the plot\n",
    "plt.ylabel('Number of medical venues') # add y-label to the plot\n",
    "plt.title('Distribution of medical venues around each neighborhood') # add title to the plot\n",
    "\n",
    "plt.show()"
   ]
  },
  {
   "cell_type": "markdown",
   "metadata": {},
   "source": [
    "### Data Normalization"
   ]
  },
  {
   "cell_type": "code",
   "execution_count": 21,
   "metadata": {
    "scrolled": false
   },
   "outputs": [
    {
     "data": {
      "text/html": [
       "<div>\n",
       "<style scoped>\n",
       "    .dataframe tbody tr th:only-of-type {\n",
       "        vertical-align: middle;\n",
       "    }\n",
       "\n",
       "    .dataframe tbody tr th {\n",
       "        vertical-align: top;\n",
       "    }\n",
       "\n",
       "    .dataframe thead th {\n",
       "        text-align: right;\n",
       "    }\n",
       "</style>\n",
       "<table border=\"1\" class=\"dataframe\">\n",
       "  <thead>\n",
       "    <tr style=\"text-align: right;\">\n",
       "      <th></th>\n",
       "      <th>Neighborhood</th>\n",
       "      <th>Dentist's Office</th>\n",
       "      <th>Doctor's Office</th>\n",
       "      <th>Emergency Room</th>\n",
       "      <th>Hospital</th>\n",
       "      <th>Medical Center</th>\n",
       "    </tr>\n",
       "  </thead>\n",
       "  <tbody>\n",
       "    <tr>\n",
       "      <th>0</th>\n",
       "      <td>Amber Road</td>\n",
       "      <td>0.135913</td>\n",
       "      <td>0.305060</td>\n",
       "      <td>0.171296</td>\n",
       "      <td>-0.09809</td>\n",
       "      <td>-0.123677</td>\n",
       "    </tr>\n",
       "    <tr>\n",
       "      <th>1</th>\n",
       "      <td>Ang Mo Kio</td>\n",
       "      <td>0.278770</td>\n",
       "      <td>0.162202</td>\n",
       "      <td>-0.162037</td>\n",
       "      <td>-0.09809</td>\n",
       "      <td>0.638228</td>\n",
       "    </tr>\n",
       "    <tr>\n",
       "      <th>2</th>\n",
       "      <td>Anson</td>\n",
       "      <td>0.207341</td>\n",
       "      <td>0.233631</td>\n",
       "      <td>-0.162037</td>\n",
       "      <td>-0.12934</td>\n",
       "      <td>-0.076058</td>\n",
       "    </tr>\n",
       "    <tr>\n",
       "      <th>3</th>\n",
       "      <td>Ardmore</td>\n",
       "      <td>0.493056</td>\n",
       "      <td>0.055060</td>\n",
       "      <td>-0.162037</td>\n",
       "      <td>-0.09809</td>\n",
       "      <td>0.542989</td>\n",
       "    </tr>\n",
       "    <tr>\n",
       "      <th>4</th>\n",
       "      <td>Balestier</td>\n",
       "      <td>-0.292659</td>\n",
       "      <td>-0.230655</td>\n",
       "      <td>0.837963</td>\n",
       "      <td>0.77691</td>\n",
       "      <td>-0.123677</td>\n",
       "    </tr>\n",
       "  </tbody>\n",
       "</table>\n",
       "</div>"
      ],
      "text/plain": [
       "  Neighborhood  Dentist's Office  Doctor's Office  Emergency Room  Hospital  \\\n",
       "0   Amber Road          0.135913         0.305060        0.171296  -0.09809   \n",
       "1   Ang Mo Kio          0.278770         0.162202       -0.162037  -0.09809   \n",
       "2        Anson          0.207341         0.233631       -0.162037  -0.12934   \n",
       "3      Ardmore          0.493056         0.055060       -0.162037  -0.09809   \n",
       "4    Balestier         -0.292659        -0.230655        0.837963   0.77691   \n",
       "\n",
       "   Medical Center  \n",
       "0       -0.123677  \n",
       "1        0.638228  \n",
       "2       -0.076058  \n",
       "3        0.542989  \n",
       "4       -0.123677  "
      ]
     },
     "execution_count": 21,
     "metadata": {},
     "output_type": "execute_result"
    }
   ],
   "source": [
    "# we remove neighborhood column from the dataframe to do the normalization\n",
    "values =  med_grouped_sum[med_grouped_sum.columns[1:]]\n",
    "med_grouped_sum_norm = (values - values.mean()) / (values.max() - values.min())\n",
    "\n",
    "# add neighborhood column back to dataframe\n",
    "med_grouped_sum_norm['Neighborhood'] = med_grouped_sum['Neighborhood']\n",
    "# move neighborhood column to the first column\n",
    "fixed_columns = [med_grouped_sum_norm.columns[-1]] + list(med_grouped_sum_norm.columns[:-1])\n",
    "med_grouped_sum_norm = med_grouped_sum_norm[fixed_columns]\n",
    "\n",
    "med_grouped_sum_norm.head()"
   ]
  },
  {
   "cell_type": "markdown",
   "metadata": {},
   "source": [
    "#### Let's just see which are the most common medical venues around each area"
   ]
  },
  {
   "cell_type": "code",
   "execution_count": 22,
   "metadata": {},
   "outputs": [],
   "source": [
    "def return_most_common_venues(row, num_top_venues):\n",
    "    row_categories = row.iloc[1:]\n",
    "    row_categories_sorted = row_categories.sort_values(ascending=False)\n",
    "    \n",
    "    return row_categories_sorted.index.values[0:num_top_venues]"
   ]
  },
  {
   "cell_type": "code",
   "execution_count": 25,
   "metadata": {},
   "outputs": [
    {
     "data": {
      "text/html": [
       "<div>\n",
       "<style scoped>\n",
       "    .dataframe tbody tr th:only-of-type {\n",
       "        vertical-align: middle;\n",
       "    }\n",
       "\n",
       "    .dataframe tbody tr th {\n",
       "        vertical-align: top;\n",
       "    }\n",
       "\n",
       "    .dataframe thead th {\n",
       "        text-align: right;\n",
       "    }\n",
       "</style>\n",
       "<table border=\"1\" class=\"dataframe\">\n",
       "  <thead>\n",
       "    <tr style=\"text-align: right;\">\n",
       "      <th></th>\n",
       "      <th>Neighborhood</th>\n",
       "      <th>1st Most Common Venue</th>\n",
       "      <th>2nd Most Common Venue</th>\n",
       "      <th>3rd Most Common Venue</th>\n",
       "      <th>4th Most Common Venue</th>\n",
       "      <th>5th Most Common Venue</th>\n",
       "    </tr>\n",
       "  </thead>\n",
       "  <tbody>\n",
       "    <tr>\n",
       "      <th>0</th>\n",
       "      <td>Amber Road</td>\n",
       "      <td>Doctor's Office</td>\n",
       "      <td>Emergency Room</td>\n",
       "      <td>Dentist's Office</td>\n",
       "      <td>Hospital</td>\n",
       "      <td>Medical Center</td>\n",
       "    </tr>\n",
       "    <tr>\n",
       "      <th>1</th>\n",
       "      <td>Ang Mo Kio</td>\n",
       "      <td>Medical Center</td>\n",
       "      <td>Dentist's Office</td>\n",
       "      <td>Doctor's Office</td>\n",
       "      <td>Hospital</td>\n",
       "      <td>Emergency Room</td>\n",
       "    </tr>\n",
       "    <tr>\n",
       "      <th>2</th>\n",
       "      <td>Anson</td>\n",
       "      <td>Doctor's Office</td>\n",
       "      <td>Dentist's Office</td>\n",
       "      <td>Medical Center</td>\n",
       "      <td>Hospital</td>\n",
       "      <td>Emergency Room</td>\n",
       "    </tr>\n",
       "    <tr>\n",
       "      <th>3</th>\n",
       "      <td>Ardmore</td>\n",
       "      <td>Medical Center</td>\n",
       "      <td>Dentist's Office</td>\n",
       "      <td>Doctor's Office</td>\n",
       "      <td>Hospital</td>\n",
       "      <td>Emergency Room</td>\n",
       "    </tr>\n",
       "    <tr>\n",
       "      <th>4</th>\n",
       "      <td>Balestier</td>\n",
       "      <td>Emergency Room</td>\n",
       "      <td>Hospital</td>\n",
       "      <td>Medical Center</td>\n",
       "      <td>Doctor's Office</td>\n",
       "      <td>Dentist's Office</td>\n",
       "    </tr>\n",
       "  </tbody>\n",
       "</table>\n",
       "</div>"
      ],
      "text/plain": [
       "  Neighborhood 1st Most Common Venue 2nd Most Common Venue  \\\n",
       "0   Amber Road       Doctor's Office        Emergency Room   \n",
       "1   Ang Mo Kio        Medical Center      Dentist's Office   \n",
       "2        Anson       Doctor's Office      Dentist's Office   \n",
       "3      Ardmore        Medical Center      Dentist's Office   \n",
       "4    Balestier        Emergency Room              Hospital   \n",
       "\n",
       "  3rd Most Common Venue 4th Most Common Venue 5th Most Common Venue  \n",
       "0      Dentist's Office              Hospital        Medical Center  \n",
       "1       Doctor's Office              Hospital        Emergency Room  \n",
       "2        Medical Center              Hospital        Emergency Room  \n",
       "3       Doctor's Office              Hospital        Emergency Room  \n",
       "4        Medical Center       Doctor's Office      Dentist's Office  "
      ]
     },
     "execution_count": 25,
     "metadata": {},
     "output_type": "execute_result"
    }
   ],
   "source": [
    "num_top_venues = 5\n",
    "indicators = ['st', 'nd', 'rd']\n",
    "\n",
    "# create columns according to number of top venues\n",
    "columns = ['Neighborhood']\n",
    "for ind in np.arange(num_top_venues):\n",
    "    try:\n",
    "        columns.append('{}{} Most Common Venue'.format(ind+1, indicators[ind]))\n",
    "    except:\n",
    "        columns.append('{}th Most Common Venue'.format(ind+1))\n",
    "\n",
    "# create a new dataframe\n",
    "neighborhoods_venues_sorted = pd.DataFrame(columns=columns)\n",
    "neighborhoods_venues_sorted['Neighborhood'] = med_grouped_sum['Neighborhood']\n",
    "\n",
    "for ind in np.arange(med_grouped_sum.shape[0]):\n",
    "    neighborhoods_venues_sorted.iloc[ind, 1:] = return_most_common_venues(med_grouped_sum_norm.iloc[ind, :], num_top_venues)\n",
    "\n",
    "neighborhoods_venues_sorted.head()"
   ]
  },
  {
   "cell_type": "markdown",
   "metadata": {},
   "source": [
    "## 5. Cluster Neighborhoods"
   ]
  },
  {
   "cell_type": "markdown",
   "metadata": {},
   "source": [
    "#### Evaluation through the Elbow method"
   ]
  },
  {
   "cell_type": "markdown",
   "metadata": {},
   "source": [
    "A way to choose the correct number of cluster is to use the Elbow method. I ploted the distortion that we obtain after running the Kmeans algorithm with different number of cluster. \n",
    "As we can see on the graph, there is not a clear elbow point, where the distortion goes down rapidly until a certain point and then the distortion goes down very slowly. \n",
    "So we can't really evaluate what would be the most appropriate number of clusters. "
   ]
  },
  {
   "cell_type": "code",
   "execution_count": 165,
   "metadata": {},
   "outputs": [
    {
     "data": {
      "image/png": "[encoded data removed]",
      "text/plain": [
       "<Figure size 432x288 with 1 Axes>"
      ]
     },
     "metadata": {
      "needs_background": "light"
     },
     "output_type": "display_data"
    }
   ],
   "source": [
    "sse = {}\n",
    "for k in range(1, 10):\n",
    "    kmeans2 = KMeans(n_clusters=k, max_iter=1000).fit(med_grouped_clustering)\n",
    "    #data[\"clusters\"] = kmeans.labels_\n",
    "    #print(data[\"clusters\"])\n",
    "    sse[k] = kmeans2.inertia_ # Inertia: Sum of distances of samples to their closest cluster center\n",
    "plt.figure()\n",
    "plt.plot(list(sse.keys()), list(sse.values()))\n",
    "plt.xlabel(\"Number of cluster\")\n",
    "plt.ylabel(\"SSE\")\n",
    "plt.show()"
   ]
  },
  {
   "cell_type": "markdown",
   "metadata": {},
   "source": [
    "The evaluation being not relevant, I decided to run *k*-means to cluster the neighborhood into 5 clusters.\n",
    "I choose to have a lot of clusters to obtain a better differentiation to know which area was poorly surrounded by medical venues. \n",
    "With 4 clusters some areas that I judge enough surrounded were in the same cluster than some areas very poorly surrounded by medical venues"
   ]
  },
  {
   "cell_type": "code",
   "execution_count": 26,
   "metadata": {},
   "outputs": [
    {
     "data": {
      "text/plain": [
       "array([0, 4, 0, 4, 3, 4, 4, 2, 3, 0])"
      ]
     },
     "execution_count": 26,
     "metadata": {},
     "output_type": "execute_result"
    }
   ],
   "source": [
    "# set number of clusters\n",
    "kclusters = 5\n",
    "\n",
    "med_grouped_clustering = med_grouped_sum_norm.drop('Neighborhood', 1)\n",
    "\n",
    "# run k-means clustering\n",
    "kmeans = KMeans(n_clusters=kclusters, random_state=0).fit(med_grouped_clustering)\n",
    "\n",
    "# check cluster labels generated for each row in the dataframe\n",
    "kmeans.labels_[0:10] "
   ]
  },
  {
   "cell_type": "markdown",
   "metadata": {},
   "source": [
    "Let's create a new dataframe that includes the cluster as well as the top venues for each neighborhood."
   ]
  },
  {
   "cell_type": "code",
   "execution_count": 27,
   "metadata": {},
   "outputs": [
    {
     "data": {
      "text/html": [
       "<div>\n",
       "<style scoped>\n",
       "    .dataframe tbody tr th:only-of-type {\n",
       "        vertical-align: middle;\n",
       "    }\n",
       "\n",
       "    .dataframe tbody tr th {\n",
       "        vertical-align: top;\n",
       "    }\n",
       "\n",
       "    .dataframe thead th {\n",
       "        text-align: right;\n",
       "    }\n",
       "</style>\n",
       "<table border=\"1\" class=\"dataframe\">\n",
       "  <thead>\n",
       "    <tr style=\"text-align: right;\">\n",
       "      <th></th>\n",
       "      <th>Postal District</th>\n",
       "      <th>Neighborhood</th>\n",
       "      <th>Latitude</th>\n",
       "      <th>Longitude</th>\n",
       "      <th>Cluster Labels</th>\n",
       "      <th>1st Most Common Venue</th>\n",
       "      <th>2nd Most Common Venue</th>\n",
       "      <th>3rd Most Common Venue</th>\n",
       "      <th>4th Most Common Venue</th>\n",
       "      <th>5th Most Common Venue</th>\n",
       "    </tr>\n",
       "  </thead>\n",
       "  <tbody>\n",
       "    <tr>\n",
       "      <th>0</th>\n",
       "      <td>1</td>\n",
       "      <td>Raffles Place</td>\n",
       "      <td>1.283595</td>\n",
       "      <td>103.851568</td>\n",
       "      <td>4</td>\n",
       "      <td>Dentist's Office</td>\n",
       "      <td>Medical Center</td>\n",
       "      <td>Doctor's Office</td>\n",
       "      <td>Hospital</td>\n",
       "      <td>Emergency Room</td>\n",
       "    </tr>\n",
       "    <tr>\n",
       "      <th>1</th>\n",
       "      <td>1</td>\n",
       "      <td>Cecil</td>\n",
       "      <td>1.278716</td>\n",
       "      <td>103.847738</td>\n",
       "      <td>4</td>\n",
       "      <td>Dentist's Office</td>\n",
       "      <td>Medical Center</td>\n",
       "      <td>Doctor's Office</td>\n",
       "      <td>Hospital</td>\n",
       "      <td>Emergency Room</td>\n",
       "    </tr>\n",
       "    <tr>\n",
       "      <th>2</th>\n",
       "      <td>1</td>\n",
       "      <td>Marina</td>\n",
       "      <td>1.290475</td>\n",
       "      <td>103.852036</td>\n",
       "      <td>4</td>\n",
       "      <td>Dentist's Office</td>\n",
       "      <td>Medical Center</td>\n",
       "      <td>Doctor's Office</td>\n",
       "      <td>Hospital</td>\n",
       "      <td>Emergency Room</td>\n",
       "    </tr>\n",
       "    <tr>\n",
       "      <th>3</th>\n",
       "      <td>1</td>\n",
       "      <td>People's Park</td>\n",
       "      <td>1.285810</td>\n",
       "      <td>103.844160</td>\n",
       "      <td>4</td>\n",
       "      <td>Medical Center</td>\n",
       "      <td>Doctor's Office</td>\n",
       "      <td>Dentist's Office</td>\n",
       "      <td>Hospital</td>\n",
       "      <td>Emergency Room</td>\n",
       "    </tr>\n",
       "    <tr>\n",
       "      <th>4</th>\n",
       "      <td>2</td>\n",
       "      <td>Anson</td>\n",
       "      <td>1.271363</td>\n",
       "      <td>103.842698</td>\n",
       "      <td>0</td>\n",
       "      <td>Doctor's Office</td>\n",
       "      <td>Dentist's Office</td>\n",
       "      <td>Medical Center</td>\n",
       "      <td>Hospital</td>\n",
       "      <td>Emergency Room</td>\n",
       "    </tr>\n",
       "  </tbody>\n",
       "</table>\n",
       "</div>"
      ],
      "text/plain": [
       "   Postal District   Neighborhood  Latitude   Longitude  Cluster Labels  \\\n",
       "0                1  Raffles Place  1.283595  103.851568               4   \n",
       "1                1          Cecil  1.278716  103.847738               4   \n",
       "2                1         Marina  1.290475  103.852036               4   \n",
       "3                1  People's Park  1.285810  103.844160               4   \n",
       "4                2          Anson  1.271363  103.842698               0   \n",
       "\n",
       "  1st Most Common Venue 2nd Most Common Venue 3rd Most Common Venue  \\\n",
       "0      Dentist's Office        Medical Center       Doctor's Office   \n",
       "1      Dentist's Office        Medical Center       Doctor's Office   \n",
       "2      Dentist's Office        Medical Center       Doctor's Office   \n",
       "3        Medical Center       Doctor's Office      Dentist's Office   \n",
       "4       Doctor's Office      Dentist's Office        Medical Center   \n",
       "\n",
       "  4th Most Common Venue 5th Most Common Venue  \n",
       "0              Hospital        Emergency Room  \n",
       "1              Hospital        Emergency Room  \n",
       "2              Hospital        Emergency Room  \n",
       "3              Hospital        Emergency Room  \n",
       "4              Hospital        Emergency Room  "
      ]
     },
     "execution_count": 27,
     "metadata": {},
     "output_type": "execute_result"
    }
   ],
   "source": [
    "# add clustering labels\n",
    "neighborhoods_venues_sorted.insert(0, 'Cluster Labels', kmeans.labels_)\n",
    "\n",
    "medic_singap_merged = postal_code\n",
    "\n",
    "# merge neighborhoods_venues_sorted with medic_singap_merged to add latitude/longitude for each neighborhood\n",
    "medic_singap_merged = medic_singap_merged.join(neighborhoods_venues_sorted.set_index('Neighborhood'), on='Neighborhood')\n",
    "\n",
    "medic_singap_merged.head() "
   ]
  },
  {
   "cell_type": "markdown",
   "metadata": {},
   "source": [
    "#### Let's add a new cluster label for the neighborhood that have not a single medical venue around them"
   ]
  },
  {
   "cell_type": "code",
   "execution_count": 28,
   "metadata": {},
   "outputs": [],
   "source": [
    "for index in medic_singap_merged.index:\n",
    "    #print(missing_neigh.values)\n",
    "    if (medic_singap_merged.iloc[index]['Neighborhood'] in missing_neigh.values):\n",
    "        medic_singap_merged.loc[index, 'Cluster Labels'] = 5"
   ]
  },
  {
   "cell_type": "markdown",
   "metadata": {},
   "source": [
    "## Results"
   ]
  },
  {
   "cell_type": "markdown",
   "metadata": {},
   "source": [
    "Finally, let's visualize the resulting clusters"
   ]
  },
  {
   "cell_type": "code",
   "execution_count": 30,
   "metadata": {
    "scrolled": false
   },
   "outputs": [
    {
     "data": {
      "text/html": [
       "<div style=\"width:100%;\"><div style=\"position:relative;width:100%;height:0;padding-bottom:60%;\"><iframe src=\"data:text/html;charset=utf-8;base64,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\" style=\"position:absolute;width:100%;height:100%;left:0;top:0;border:none !important;\" allowfullscreen webkitallowfullscreen mozallowfullscreen></iframe></div></div>"
      ],
      "text/plain": [
       "<folium.folium.Map at 0x1ecbbf88ef0>"
      ]
     },
     "execution_count": 30,
     "metadata": {},
     "output_type": "execute_result"
    }
   ],
   "source": [
    "# create map\n",
    "map_clusters = folium.Map(location=[latitude, longitude], zoom_start=12)\n",
    "\n",
    "# I set the color in function of my analysis in order to have an easier interpretation \n",
    "rainbow = ['yellowgreen', 'green','red','blue','green','darkred']\n",
    "\n",
    "# add markers to the map\n",
    "markers_colors = []\n",
    "for lat, lon, postal, nei, cluster in zip(medic_singap_merged['Latitude'], medic_singap_merged['Longitude'],medic_singap_merged['Postal District'], medic_singap_merged['Neighborhood'], medic_singap_merged['Cluster Labels']):\n",
    "    label = folium.Popup(str(postal) + ', ' +str(nei) + ' Cluster ' + str(cluster), parse_html=True)\n",
    "    folium.CircleMarker(\n",
    "        [lat, lon],\n",
    "        radius=5,\n",
    "        popup=label,\n",
    "        color=rainbow[cluster],\n",
    "        fill=True,\n",
    "        fill_color=rainbow[cluster],\n",
    "        fill_opacity=0.7).add_to(map_clusters)\n",
    "       \n",
    "map_clusters"
   ]
  },
  {
   "cell_type": "markdown",
   "metadata": {},
   "source": [
    "We will merge the number of venues to the result to interpret"
   ]
  },
  {
   "cell_type": "code",
   "execution_count": 31,
   "metadata": {},
   "outputs": [
    {
     "data": {
      "text/html": [
       "<div>\n",
       "<style scoped>\n",
       "    .dataframe tbody tr th:only-of-type {\n",
       "        vertical-align: middle;\n",
       "    }\n",
       "\n",
       "    .dataframe tbody tr th {\n",
       "        vertical-align: top;\n",
       "    }\n",
       "\n",
       "    .dataframe thead th {\n",
       "        text-align: right;\n",
       "    }\n",
       "</style>\n",
       "<table border=\"1\" class=\"dataframe\">\n",
       "  <thead>\n",
       "    <tr style=\"text-align: right;\">\n",
       "      <th></th>\n",
       "      <th>Postal District</th>\n",
       "      <th>Neighborhood</th>\n",
       "      <th>Latitude</th>\n",
       "      <th>Longitude</th>\n",
       "      <th>Cluster Labels</th>\n",
       "      <th>1st Most Common Venue</th>\n",
       "      <th>2nd Most Common Venue</th>\n",
       "      <th>3rd Most Common Venue</th>\n",
       "      <th>4th Most Common Venue</th>\n",
       "      <th>5th Most Common Venue</th>\n",
       "      <th>Dentist's Office</th>\n",
       "      <th>Doctor's Office</th>\n",
       "      <th>Emergency Room</th>\n",
       "      <th>Hospital</th>\n",
       "      <th>Medical Center</th>\n",
       "    </tr>\n",
       "  </thead>\n",
       "  <tbody>\n",
       "    <tr>\n",
       "      <th>0</th>\n",
       "      <td>1</td>\n",
       "      <td>Raffles Place</td>\n",
       "      <td>1.283595</td>\n",
       "      <td>103.851568</td>\n",
       "      <td>4</td>\n",
       "      <td>Dentist's Office</td>\n",
       "      <td>Medical Center</td>\n",
       "      <td>Doctor's Office</td>\n",
       "      <td>Hospital</td>\n",
       "      <td>Emergency Room</td>\n",
       "      <td>9</td>\n",
       "      <td>18</td>\n",
       "      <td>0</td>\n",
       "      <td>0</td>\n",
       "      <td>14</td>\n",
       "    </tr>\n",
       "    <tr>\n",
       "      <th>1</th>\n",
       "      <td>1</td>\n",
       "      <td>Cecil</td>\n",
       "      <td>1.278716</td>\n",
       "      <td>103.847738</td>\n",
       "      <td>4</td>\n",
       "      <td>Dentist's Office</td>\n",
       "      <td>Medical Center</td>\n",
       "      <td>Doctor's Office</td>\n",
       "      <td>Hospital</td>\n",
       "      <td>Emergency Room</td>\n",
       "      <td>10</td>\n",
       "      <td>19</td>\n",
       "      <td>0</td>\n",
       "      <td>1</td>\n",
       "      <td>15</td>\n",
       "    </tr>\n",
       "    <tr>\n",
       "      <th>2</th>\n",
       "      <td>1</td>\n",
       "      <td>Marina</td>\n",
       "      <td>1.290475</td>\n",
       "      <td>103.852036</td>\n",
       "      <td>4</td>\n",
       "      <td>Dentist's Office</td>\n",
       "      <td>Medical Center</td>\n",
       "      <td>Doctor's Office</td>\n",
       "      <td>Hospital</td>\n",
       "      <td>Emergency Room</td>\n",
       "      <td>10</td>\n",
       "      <td>10</td>\n",
       "      <td>0</td>\n",
       "      <td>2</td>\n",
       "      <td>9</td>\n",
       "    </tr>\n",
       "    <tr>\n",
       "      <th>3</th>\n",
       "      <td>1</td>\n",
       "      <td>People's Park</td>\n",
       "      <td>1.285810</td>\n",
       "      <td>103.844160</td>\n",
       "      <td>4</td>\n",
       "      <td>Medical Center</td>\n",
       "      <td>Doctor's Office</td>\n",
       "      <td>Dentist's Office</td>\n",
       "      <td>Hospital</td>\n",
       "      <td>Emergency Room</td>\n",
       "      <td>4</td>\n",
       "      <td>19</td>\n",
       "      <td>0</td>\n",
       "      <td>0</td>\n",
       "      <td>16</td>\n",
       "    </tr>\n",
       "    <tr>\n",
       "      <th>4</th>\n",
       "      <td>2</td>\n",
       "      <td>Anson</td>\n",
       "      <td>1.271363</td>\n",
       "      <td>103.842698</td>\n",
       "      <td>0</td>\n",
       "      <td>Doctor's Office</td>\n",
       "      <td>Dentist's Office</td>\n",
       "      <td>Medical Center</td>\n",
       "      <td>Hospital</td>\n",
       "      <td>Emergency Room</td>\n",
       "      <td>7</td>\n",
       "      <td>17</td>\n",
       "      <td>0</td>\n",
       "      <td>0</td>\n",
       "      <td>6</td>\n",
       "    </tr>\n",
       "    <tr>\n",
       "      <th>5</th>\n",
       "      <td>2</td>\n",
       "      <td>Tanjong Pagar</td>\n",
       "      <td>1.276571</td>\n",
       "      <td>103.845848</td>\n",
       "      <td>4</td>\n",
       "      <td>Dentist's Office</td>\n",
       "      <td>Doctor's Office</td>\n",
       "      <td>Medical Center</td>\n",
       "      <td>Hospital</td>\n",
       "      <td>Emergency Room</td>\n",
       "      <td>11</td>\n",
       "      <td>19</td>\n",
       "      <td>0</td>\n",
       "      <td>1</td>\n",
       "      <td>14</td>\n",
       "    </tr>\n",
       "    <tr>\n",
       "      <th>6</th>\n",
       "      <td>3</td>\n",
       "      <td>Bukit Merah</td>\n",
       "      <td>1.280628</td>\n",
       "      <td>103.830591</td>\n",
       "      <td>3</td>\n",
       "      <td>Hospital</td>\n",
       "      <td>Emergency Room</td>\n",
       "      <td>Medical Center</td>\n",
       "      <td>Doctor's Office</td>\n",
       "      <td>Dentist's Office</td>\n",
       "      <td>0</td>\n",
       "      <td>4</td>\n",
       "      <td>1</td>\n",
       "      <td>29</td>\n",
       "      <td>6</td>\n",
       "    </tr>\n",
       "    <tr>\n",
       "      <th>7</th>\n",
       "      <td>3</td>\n",
       "      <td>Queenstown</td>\n",
       "      <td>1.294623</td>\n",
       "      <td>103.806045</td>\n",
       "      <td>0</td>\n",
       "      <td>Hospital</td>\n",
       "      <td>Medical Center</td>\n",
       "      <td>Doctor's Office</td>\n",
       "      <td>Dentist's Office</td>\n",
       "      <td>Emergency Room</td>\n",
       "      <td>2</td>\n",
       "      <td>8</td>\n",
       "      <td>0</td>\n",
       "      <td>4</td>\n",
       "      <td>6</td>\n",
       "    </tr>\n",
       "    <tr>\n",
       "      <th>8</th>\n",
       "      <td>3</td>\n",
       "      <td>Tiong Bahru</td>\n",
       "      <td>1.286197</td>\n",
       "      <td>103.825765</td>\n",
       "      <td>1</td>\n",
       "      <td>Emergency Room</td>\n",
       "      <td>Medical Center</td>\n",
       "      <td>Doctor's Office</td>\n",
       "      <td>Dentist's Office</td>\n",
       "      <td>Hospital</td>\n",
       "      <td>6</td>\n",
       "      <td>17</td>\n",
       "      <td>2</td>\n",
       "      <td>5</td>\n",
       "      <td>16</td>\n",
       "    </tr>\n",
       "    <tr>\n",
       "      <th>9</th>\n",
       "      <td>4</td>\n",
       "      <td>Telok Blangah</td>\n",
       "      <td>1.270586</td>\n",
       "      <td>103.809863</td>\n",
       "      <td>0</td>\n",
       "      <td>Dentist's Office</td>\n",
       "      <td>Doctor's Office</td>\n",
       "      <td>Hospital</td>\n",
       "      <td>Emergency Room</td>\n",
       "      <td>Medical Center</td>\n",
       "      <td>4</td>\n",
       "      <td>10</td>\n",
       "      <td>0</td>\n",
       "      <td>0</td>\n",
       "      <td>2</td>\n",
       "    </tr>\n",
       "  </tbody>\n",
       "</table>\n",
       "</div>"
      ],
      "text/plain": [
       "   Postal District   Neighborhood  Latitude   Longitude  Cluster Labels  \\\n",
       "0                1  Raffles Place  1.283595  103.851568               4   \n",
       "1                1          Cecil  1.278716  103.847738               4   \n",
       "2                1         Marina  1.290475  103.852036               4   \n",
       "3                1  People's Park  1.285810  103.844160               4   \n",
       "4                2          Anson  1.271363  103.842698               0   \n",
       "5                2  Tanjong Pagar  1.276571  103.845848               4   \n",
       "6                3    Bukit Merah  1.280628  103.830591               3   \n",
       "7                3     Queenstown  1.294623  103.806045               0   \n",
       "8                3    Tiong Bahru  1.286197  103.825765               1   \n",
       "9                4  Telok Blangah  1.270586  103.809863               0   \n",
       "\n",
       "  1st Most Common Venue 2nd Most Common Venue 3rd Most Common Venue  \\\n",
       "0      Dentist's Office        Medical Center       Doctor's Office   \n",
       "1      Dentist's Office        Medical Center       Doctor's Office   \n",
       "2      Dentist's Office        Medical Center       Doctor's Office   \n",
       "3        Medical Center       Doctor's Office      Dentist's Office   \n",
       "4       Doctor's Office      Dentist's Office        Medical Center   \n",
       "5      Dentist's Office       Doctor's Office        Medical Center   \n",
       "6              Hospital        Emergency Room        Medical Center   \n",
       "7              Hospital        Medical Center       Doctor's Office   \n",
       "8        Emergency Room        Medical Center       Doctor's Office   \n",
       "9      Dentist's Office       Doctor's Office              Hospital   \n",
       "\n",
       "  4th Most Common Venue 5th Most Common Venue  Dentist's Office  \\\n",
       "0              Hospital        Emergency Room                 9   \n",
       "1              Hospital        Emergency Room                10   \n",
       "2              Hospital        Emergency Room                10   \n",
       "3              Hospital        Emergency Room                 4   \n",
       "4              Hospital        Emergency Room                 7   \n",
       "5              Hospital        Emergency Room                11   \n",
       "6       Doctor's Office      Dentist's Office                 0   \n",
       "7      Dentist's Office        Emergency Room                 2   \n",
       "8      Dentist's Office              Hospital                 6   \n",
       "9        Emergency Room        Medical Center                 4   \n",
       "\n",
       "   Doctor's Office  Emergency Room  Hospital  Medical Center  \n",
       "0               18               0         0              14  \n",
       "1               19               0         1              15  \n",
       "2               10               0         2               9  \n",
       "3               19               0         0              16  \n",
       "4               17               0         0               6  \n",
       "5               19               0         1              14  \n",
       "6                4               1        29               6  \n",
       "7                8               0         4               6  \n",
       "8               17               2         5              16  \n",
       "9               10               0         0               2  "
      ]
     },
     "execution_count": 31,
     "metadata": {},
     "output_type": "execute_result"
    }
   ],
   "source": [
    "medic_singap_merged2 = medic_singap_merged.join(med_grouped_sum.set_index('Neighborhood'), on='Neighborhood')\n",
    "medic_singap_merged2.head(10)"
   ]
  },
  {
   "cell_type": "markdown",
   "metadata": {},
   "source": [
    "Analysis of the result :\n",
    "- 0 : Well deserved by Dentist and doctor offices and medical centers\n",
    "- 1 : Very well surounded by Dentist and doctor offices and medical centers\n",
    "- 2 : Lack of medical services compare to the other area\n",
    "- 3 : Neighborhood with lot of hospitals compare to the other area\n",
    "- 4 : Very well surounded by Dentist and doctor offices and medical centers\n",
    "- 5 : Not a single medical place is present around there"
   ]
  },
  {
   "cell_type": "markdown",
   "metadata": {},
   "source": [
    "## Discussion <a name=\"results\"></a>"
   ]
  },
  {
   "cell_type": "markdown",
   "metadata": {},
   "source": [
    "Our analysis showed that Singapore is quite well deserved by medical institutions, with overall more than 2000 medical venues retrieved. And as we can see on the result map, we can really cluster Singapore into different zones just by looking at the segmentation that gave the medical venues. The city centre of Singapore is very well deserved, as opposite to the more external area. \n",
    "\n",
    "We can easily guess a correlation on the activity and population of these neighbourhood just by looking at the result of my analysis on the medical venues. \n",
    "\n",
    "We can really see here the efficiency of the K-means algorithm, it was able to clearly determine which neighbourhood have the most important Hospitals of Singapore (in blue), which neighbourhood we should or shouldn’t go if we want to have easy access to healthcare. "
   ]
  },
  {
   "cell_type": "markdown",
   "metadata": {},
   "source": [
    "## Conclusion <a name=\"conclusion\"></a>"
   ]
  },
  {
   "cell_type": "markdown",
   "metadata": {},
   "source": [
    "As a result, this analysis was very useful for the insurance company I worked with, they were be able to advise new expats arriving in Singapore, which are the best place to live in, if they want to have an easy access to health or to an hospital. \n",
    "\n",
    "It could be also useful for a local doctor who would like to know which place the best is to establish his office. For example, we can see easily see few neighbourhoods that are in the middle of an urban area with lots of habitation but with a very poor number of medical venues, like Upper Bukit Timah or Braddell. "
   ]
  }
 ],
 "metadata": {
  "kernelspec": {
   "display_name": "Python 3",
   "language": "python",
   "name": "python3"
  },
  "language_info": {
   "codemirror_mode": {
    "name": "ipython",
    "version": 3
   },
   "file_extension": ".py",
   "mimetype": "text/x-python",
   "name": "python",
   "nbconvert_exporter": "python",
   "pygments_lexer": "ipython3",
   "version": "3.7.3"
  }
 },
 "nbformat": 4,
 "nbformat_minor": 2
}
